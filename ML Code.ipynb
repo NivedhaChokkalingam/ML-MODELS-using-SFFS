{
  "nbformat": 4,
  "nbformat_minor": 0,
  "metadata": {
    "colab": {
      "name": "midterm2ipynb.ipynb",
      "provenance": [],
      "collapsed_sections": []
    },
    "kernelspec": {
      "name": "python3",
      "display_name": "Python 3"
    },
    "language_info": {
      "name": "python"
    }
  },
  "cells": [
    {
      "cell_type": "code",
      "source": [
        "#importing the libraries\n",
        "import pandas as pd\n",
        "import numpy as np\n",
        "from sklearn.metrics import classification_report, accuracy_score, confusion_matrix, f1_score,roc_curve,roc_auc_score\n",
        "from sklearn import metrics\n",
        "import warnings\n",
        "import itertools\n",
        "warnings.filterwarnings(\"ignore\")\n"
      ],
      "metadata": {
        "id": "-a-TELlYAUjx"
      },
      "execution_count": 4,
      "outputs": []
    },
    {
      "cell_type": "code",
      "execution_count": 5,
      "metadata": {
        "id": "T2p9CrVwcleY"
      },
      "outputs": [],
      "source": [
        "data = pd.read_csv(\"data.txt\", delimiter = ' ',\n",
        "                   names=['age','sex','chestpaintype','blood-pressure','serumcholesterol','fastingbloodsugar','electrocardiographicresults','maxhearrate',\n",
        "                         'exerciseangina','oldpeak','slopepeakexercise','noofmajorvessels','reversable-defect','labels' \n",
        "\n",
        "],header=None,)"
      ]
    },
    {
      "cell_type": "code",
      "source": [
        "data.head()"
      ],
      "metadata": {
        "colab": {
          "base_uri": "https://localhost:8080/",
          "height": 287
        },
        "id": "p-lNWg__BO-q",
        "outputId": "a7394313-13c9-43bd-df1e-80b4d4f2ffbe"
      },
      "execution_count": 6,
      "outputs": [
        {
          "output_type": "execute_result",
          "data": {
            "text/plain": [
              "    age  sex  chestpaintype  blood-pressure  serumcholesterol  \\\n",
              "0  70.0  1.0            4.0           130.0             322.0   \n",
              "1  67.0  0.0            3.0           115.0             564.0   \n",
              "2  57.0  1.0            2.0           124.0             261.0   \n",
              "3  64.0  1.0            4.0           128.0             263.0   \n",
              "4  74.0  0.0            2.0           120.0             269.0   \n",
              "\n",
              "   fastingbloodsugar  electrocardiographicresults  maxhearrate  \\\n",
              "0                0.0                          2.0        109.0   \n",
              "1                0.0                          2.0        160.0   \n",
              "2                0.0                          0.0        141.0   \n",
              "3                0.0                          0.0        105.0   \n",
              "4                0.0                          2.0        121.0   \n",
              "\n",
              "   exerciseangina  oldpeak  slopepeakexercise  noofmajorvessels  \\\n",
              "0             0.0      2.4                2.0               3.0   \n",
              "1             0.0      1.6                2.0               0.0   \n",
              "2             0.0      0.3                1.0               0.0   \n",
              "3             1.0      0.2                2.0               1.0   \n",
              "4             1.0      0.2                1.0               1.0   \n",
              "\n",
              "   reversable-defect  labels  \n",
              "0                3.0       2  \n",
              "1                7.0       1  \n",
              "2                7.0       2  \n",
              "3                7.0       1  \n",
              "4                3.0       1  "
            ],
            "text/html": [
              "\n",
              "  <div id=\"df-e261321a-683c-4337-9ee1-cc50d1492c91\">\n",
              "    <div class=\"colab-df-container\">\n",
              "      <div>\n",
              "<style scoped>\n",
              "    .dataframe tbody tr th:only-of-type {\n",
              "        vertical-align: middle;\n",
              "    }\n",
              "\n",
              "    .dataframe tbody tr th {\n",
              "        vertical-align: top;\n",
              "    }\n",
              "\n",
              "    .dataframe thead th {\n",
              "        text-align: right;\n",
              "    }\n",
              "</style>\n",
              "<table border=\"1\" class=\"dataframe\">\n",
              "  <thead>\n",
              "    <tr style=\"text-align: right;\">\n",
              "      <th></th>\n",
              "      <th>age</th>\n",
              "      <th>sex</th>\n",
              "      <th>chestpaintype</th>\n",
              "      <th>blood-pressure</th>\n",
              "      <th>serumcholesterol</th>\n",
              "      <th>fastingbloodsugar</th>\n",
              "      <th>electrocardiographicresults</th>\n",
              "      <th>maxhearrate</th>\n",
              "      <th>exerciseangina</th>\n",
              "      <th>oldpeak</th>\n",
              "      <th>slopepeakexercise</th>\n",
              "      <th>noofmajorvessels</th>\n",
              "      <th>reversable-defect</th>\n",
              "      <th>labels</th>\n",
              "    </tr>\n",
              "  </thead>\n",
              "  <tbody>\n",
              "    <tr>\n",
              "      <th>0</th>\n",
              "      <td>70.0</td>\n",
              "      <td>1.0</td>\n",
              "      <td>4.0</td>\n",
              "      <td>130.0</td>\n",
              "      <td>322.0</td>\n",
              "      <td>0.0</td>\n",
              "      <td>2.0</td>\n",
              "      <td>109.0</td>\n",
              "      <td>0.0</td>\n",
              "      <td>2.4</td>\n",
              "      <td>2.0</td>\n",
              "      <td>3.0</td>\n",
              "      <td>3.0</td>\n",
              "      <td>2</td>\n",
              "    </tr>\n",
              "    <tr>\n",
              "      <th>1</th>\n",
              "      <td>67.0</td>\n",
              "      <td>0.0</td>\n",
              "      <td>3.0</td>\n",
              "      <td>115.0</td>\n",
              "      <td>564.0</td>\n",
              "      <td>0.0</td>\n",
              "      <td>2.0</td>\n",
              "      <td>160.0</td>\n",
              "      <td>0.0</td>\n",
              "      <td>1.6</td>\n",
              "      <td>2.0</td>\n",
              "      <td>0.0</td>\n",
              "      <td>7.0</td>\n",
              "      <td>1</td>\n",
              "    </tr>\n",
              "    <tr>\n",
              "      <th>2</th>\n",
              "      <td>57.0</td>\n",
              "      <td>1.0</td>\n",
              "      <td>2.0</td>\n",
              "      <td>124.0</td>\n",
              "      <td>261.0</td>\n",
              "      <td>0.0</td>\n",
              "      <td>0.0</td>\n",
              "      <td>141.0</td>\n",
              "      <td>0.0</td>\n",
              "      <td>0.3</td>\n",
              "      <td>1.0</td>\n",
              "      <td>0.0</td>\n",
              "      <td>7.0</td>\n",
              "      <td>2</td>\n",
              "    </tr>\n",
              "    <tr>\n",
              "      <th>3</th>\n",
              "      <td>64.0</td>\n",
              "      <td>1.0</td>\n",
              "      <td>4.0</td>\n",
              "      <td>128.0</td>\n",
              "      <td>263.0</td>\n",
              "      <td>0.0</td>\n",
              "      <td>0.0</td>\n",
              "      <td>105.0</td>\n",
              "      <td>1.0</td>\n",
              "      <td>0.2</td>\n",
              "      <td>2.0</td>\n",
              "      <td>1.0</td>\n",
              "      <td>7.0</td>\n",
              "      <td>1</td>\n",
              "    </tr>\n",
              "    <tr>\n",
              "      <th>4</th>\n",
              "      <td>74.0</td>\n",
              "      <td>0.0</td>\n",
              "      <td>2.0</td>\n",
              "      <td>120.0</td>\n",
              "      <td>269.0</td>\n",
              "      <td>0.0</td>\n",
              "      <td>2.0</td>\n",
              "      <td>121.0</td>\n",
              "      <td>1.0</td>\n",
              "      <td>0.2</td>\n",
              "      <td>1.0</td>\n",
              "      <td>1.0</td>\n",
              "      <td>3.0</td>\n",
              "      <td>1</td>\n",
              "    </tr>\n",
              "  </tbody>\n",
              "</table>\n",
              "</div>\n",
              "      <button class=\"colab-df-convert\" onclick=\"convertToInteractive('df-e261321a-683c-4337-9ee1-cc50d1492c91')\"\n",
              "              title=\"Convert this dataframe to an interactive table.\"\n",
              "              style=\"display:none;\">\n",
              "        \n",
              "  <svg xmlns=\"http://www.w3.org/2000/svg\" height=\"24px\"viewBox=\"0 0 24 24\"\n",
              "       width=\"24px\">\n",
              "    <path d=\"M0 0h24v24H0V0z\" fill=\"none\"/>\n",
              "    <path d=\"M18.56 5.44l.94 2.06.94-2.06 2.06-.94-2.06-.94-.94-2.06-.94 2.06-2.06.94zm-11 1L8.5 8.5l.94-2.06 2.06-.94-2.06-.94L8.5 2.5l-.94 2.06-2.06.94zm10 10l.94 2.06.94-2.06 2.06-.94-2.06-.94-.94-2.06-.94 2.06-2.06.94z\"/><path d=\"M17.41 7.96l-1.37-1.37c-.4-.4-.92-.59-1.43-.59-.52 0-1.04.2-1.43.59L10.3 9.45l-7.72 7.72c-.78.78-.78 2.05 0 2.83L4 21.41c.39.39.9.59 1.41.59.51 0 1.02-.2 1.41-.59l7.78-7.78 2.81-2.81c.8-.78.8-2.07 0-2.86zM5.41 20L4 18.59l7.72-7.72 1.47 1.35L5.41 20z\"/>\n",
              "  </svg>\n",
              "      </button>\n",
              "      \n",
              "  <style>\n",
              "    .colab-df-container {\n",
              "      display:flex;\n",
              "      flex-wrap:wrap;\n",
              "      gap: 12px;\n",
              "    }\n",
              "\n",
              "    .colab-df-convert {\n",
              "      background-color: #E8F0FE;\n",
              "      border: none;\n",
              "      border-radius: 50%;\n",
              "      cursor: pointer;\n",
              "      display: none;\n",
              "      fill: #1967D2;\n",
              "      height: 32px;\n",
              "      padding: 0 0 0 0;\n",
              "      width: 32px;\n",
              "    }\n",
              "\n",
              "    .colab-df-convert:hover {\n",
              "      background-color: #E2EBFA;\n",
              "      box-shadow: 0px 1px 2px rgba(60, 64, 67, 0.3), 0px 1px 3px 1px rgba(60, 64, 67, 0.15);\n",
              "      fill: #174EA6;\n",
              "    }\n",
              "\n",
              "    [theme=dark] .colab-df-convert {\n",
              "      background-color: #3B4455;\n",
              "      fill: #D2E3FC;\n",
              "    }\n",
              "\n",
              "    [theme=dark] .colab-df-convert:hover {\n",
              "      background-color: #434B5C;\n",
              "      box-shadow: 0px 1px 3px 1px rgba(0, 0, 0, 0.15);\n",
              "      filter: drop-shadow(0px 1px 2px rgba(0, 0, 0, 0.3));\n",
              "      fill: #FFFFFF;\n",
              "    }\n",
              "  </style>\n",
              "\n",
              "      <script>\n",
              "        const buttonEl =\n",
              "          document.querySelector('#df-e261321a-683c-4337-9ee1-cc50d1492c91 button.colab-df-convert');\n",
              "        buttonEl.style.display =\n",
              "          google.colab.kernel.accessAllowed ? 'block' : 'none';\n",
              "\n",
              "        async function convertToInteractive(key) {\n",
              "          const element = document.querySelector('#df-e261321a-683c-4337-9ee1-cc50d1492c91');\n",
              "          const dataTable =\n",
              "            await google.colab.kernel.invokeFunction('convertToInteractive',\n",
              "                                                     [key], {});\n",
              "          if (!dataTable) return;\n",
              "\n",
              "          const docLinkHtml = 'Like what you see? Visit the ' +\n",
              "            '<a target=\"_blank\" href=https://colab.research.google.com/notebooks/data_table.ipynb>data table notebook</a>'\n",
              "            + ' to learn more about interactive tables.';\n",
              "          element.innerHTML = '';\n",
              "          dataTable['output_type'] = 'display_data';\n",
              "          await google.colab.output.renderOutput(dataTable, element);\n",
              "          const docLink = document.createElement('div');\n",
              "          docLink.innerHTML = docLinkHtml;\n",
              "          element.appendChild(docLink);\n",
              "        }\n",
              "      </script>\n",
              "    </div>\n",
              "  </div>\n",
              "  "
            ]
          },
          "metadata": {},
          "execution_count": 6
        }
      ]
    },
    {
      "cell_type": "code",
      "source": [
        "data.shape"
      ],
      "metadata": {
        "colab": {
          "base_uri": "https://localhost:8080/"
        },
        "id": "rP3dH4d9E8l0",
        "outputId": "5acacbf5-62f7-4ab0-cfd2-75d74e138a9f"
      },
      "execution_count": null,
      "outputs": [
        {
          "output_type": "execute_result",
          "data": {
            "text/plain": [
              "(270, 14)"
            ]
          },
          "metadata": {},
          "execution_count": 158
        }
      ]
    },
    {
      "cell_type": "code",
      "source": [
        "#describes the whole dataset\n",
        "data.describe()"
      ],
      "metadata": {
        "colab": {
          "base_uri": "https://localhost:8080/",
          "height": 382
        },
        "id": "dsvaoyY1FA3I",
        "outputId": "b3f38df8-48f4-4dca-bb39-c455fbbfa48d"
      },
      "execution_count": null,
      "outputs": [
        {
          "output_type": "execute_result",
          "data": {
            "text/plain": [
              "              age         sex  chestpaintype  blood-pressure  \\\n",
              "count  270.000000  270.000000     270.000000      270.000000   \n",
              "mean    54.433333    0.677778       3.174074      131.344444   \n",
              "std      9.109067    0.468195       0.950090       17.861608   \n",
              "min     29.000000    0.000000       1.000000       94.000000   \n",
              "25%     48.000000    0.000000       3.000000      120.000000   \n",
              "50%     55.000000    1.000000       3.000000      130.000000   \n",
              "75%     61.000000    1.000000       4.000000      140.000000   \n",
              "max     77.000000    1.000000       4.000000      200.000000   \n",
              "\n",
              "       serumcholesterol  fastingbloodsugar  electrocardiographicresults  \\\n",
              "count        270.000000         270.000000                   270.000000   \n",
              "mean         249.659259           0.148148                     1.022222   \n",
              "std           51.686237           0.355906                     0.997891   \n",
              "min          126.000000           0.000000                     0.000000   \n",
              "25%          213.000000           0.000000                     0.000000   \n",
              "50%          245.000000           0.000000                     2.000000   \n",
              "75%          280.000000           0.000000                     2.000000   \n",
              "max          564.000000           1.000000                     2.000000   \n",
              "\n",
              "       maxhearrate  exerciseangina    oldpeak  slopepeakexercise  \\\n",
              "count   270.000000      270.000000  270.00000         270.000000   \n",
              "mean    149.677778        0.329630    1.05000           1.585185   \n",
              "std      23.165717        0.470952    1.14521           0.614390   \n",
              "min      71.000000        0.000000    0.00000           1.000000   \n",
              "25%     133.000000        0.000000    0.00000           1.000000   \n",
              "50%     153.500000        0.000000    0.80000           2.000000   \n",
              "75%     166.000000        1.000000    1.60000           2.000000   \n",
              "max     202.000000        1.000000    6.20000           3.000000   \n",
              "\n",
              "       noofmajorvessels  reversable-defect      labels  \n",
              "count        270.000000         270.000000  270.000000  \n",
              "mean           0.670370           4.696296    1.444444  \n",
              "std            0.943896           1.940659    0.497827  \n",
              "min            0.000000           3.000000    1.000000  \n",
              "25%            0.000000           3.000000    1.000000  \n",
              "50%            0.000000           3.000000    1.000000  \n",
              "75%            1.000000           7.000000    2.000000  \n",
              "max            3.000000           7.000000    2.000000  "
            ],
            "text/html": [
              "\n",
              "  <div id=\"df-af767dd5-0179-4986-ab8e-41d680d5be29\">\n",
              "    <div class=\"colab-df-container\">\n",
              "      <div>\n",
              "<style scoped>\n",
              "    .dataframe tbody tr th:only-of-type {\n",
              "        vertical-align: middle;\n",
              "    }\n",
              "\n",
              "    .dataframe tbody tr th {\n",
              "        vertical-align: top;\n",
              "    }\n",
              "\n",
              "    .dataframe thead th {\n",
              "        text-align: right;\n",
              "    }\n",
              "</style>\n",
              "<table border=\"1\" class=\"dataframe\">\n",
              "  <thead>\n",
              "    <tr style=\"text-align: right;\">\n",
              "      <th></th>\n",
              "      <th>age</th>\n",
              "      <th>sex</th>\n",
              "      <th>chestpaintype</th>\n",
              "      <th>blood-pressure</th>\n",
              "      <th>serumcholesterol</th>\n",
              "      <th>fastingbloodsugar</th>\n",
              "      <th>electrocardiographicresults</th>\n",
              "      <th>maxhearrate</th>\n",
              "      <th>exerciseangina</th>\n",
              "      <th>oldpeak</th>\n",
              "      <th>slopepeakexercise</th>\n",
              "      <th>noofmajorvessels</th>\n",
              "      <th>reversable-defect</th>\n",
              "      <th>labels</th>\n",
              "    </tr>\n",
              "  </thead>\n",
              "  <tbody>\n",
              "    <tr>\n",
              "      <th>count</th>\n",
              "      <td>270.000000</td>\n",
              "      <td>270.000000</td>\n",
              "      <td>270.000000</td>\n",
              "      <td>270.000000</td>\n",
              "      <td>270.000000</td>\n",
              "      <td>270.000000</td>\n",
              "      <td>270.000000</td>\n",
              "      <td>270.000000</td>\n",
              "      <td>270.000000</td>\n",
              "      <td>270.00000</td>\n",
              "      <td>270.000000</td>\n",
              "      <td>270.000000</td>\n",
              "      <td>270.000000</td>\n",
              "      <td>270.000000</td>\n",
              "    </tr>\n",
              "    <tr>\n",
              "      <th>mean</th>\n",
              "      <td>54.433333</td>\n",
              "      <td>0.677778</td>\n",
              "      <td>3.174074</td>\n",
              "      <td>131.344444</td>\n",
              "      <td>249.659259</td>\n",
              "      <td>0.148148</td>\n",
              "      <td>1.022222</td>\n",
              "      <td>149.677778</td>\n",
              "      <td>0.329630</td>\n",
              "      <td>1.05000</td>\n",
              "      <td>1.585185</td>\n",
              "      <td>0.670370</td>\n",
              "      <td>4.696296</td>\n",
              "      <td>1.444444</td>\n",
              "    </tr>\n",
              "    <tr>\n",
              "      <th>std</th>\n",
              "      <td>9.109067</td>\n",
              "      <td>0.468195</td>\n",
              "      <td>0.950090</td>\n",
              "      <td>17.861608</td>\n",
              "      <td>51.686237</td>\n",
              "      <td>0.355906</td>\n",
              "      <td>0.997891</td>\n",
              "      <td>23.165717</td>\n",
              "      <td>0.470952</td>\n",
              "      <td>1.14521</td>\n",
              "      <td>0.614390</td>\n",
              "      <td>0.943896</td>\n",
              "      <td>1.940659</td>\n",
              "      <td>0.497827</td>\n",
              "    </tr>\n",
              "    <tr>\n",
              "      <th>min</th>\n",
              "      <td>29.000000</td>\n",
              "      <td>0.000000</td>\n",
              "      <td>1.000000</td>\n",
              "      <td>94.000000</td>\n",
              "      <td>126.000000</td>\n",
              "      <td>0.000000</td>\n",
              "      <td>0.000000</td>\n",
              "      <td>71.000000</td>\n",
              "      <td>0.000000</td>\n",
              "      <td>0.00000</td>\n",
              "      <td>1.000000</td>\n",
              "      <td>0.000000</td>\n",
              "      <td>3.000000</td>\n",
              "      <td>1.000000</td>\n",
              "    </tr>\n",
              "    <tr>\n",
              "      <th>25%</th>\n",
              "      <td>48.000000</td>\n",
              "      <td>0.000000</td>\n",
              "      <td>3.000000</td>\n",
              "      <td>120.000000</td>\n",
              "      <td>213.000000</td>\n",
              "      <td>0.000000</td>\n",
              "      <td>0.000000</td>\n",
              "      <td>133.000000</td>\n",
              "      <td>0.000000</td>\n",
              "      <td>0.00000</td>\n",
              "      <td>1.000000</td>\n",
              "      <td>0.000000</td>\n",
              "      <td>3.000000</td>\n",
              "      <td>1.000000</td>\n",
              "    </tr>\n",
              "    <tr>\n",
              "      <th>50%</th>\n",
              "      <td>55.000000</td>\n",
              "      <td>1.000000</td>\n",
              "      <td>3.000000</td>\n",
              "      <td>130.000000</td>\n",
              "      <td>245.000000</td>\n",
              "      <td>0.000000</td>\n",
              "      <td>2.000000</td>\n",
              "      <td>153.500000</td>\n",
              "      <td>0.000000</td>\n",
              "      <td>0.80000</td>\n",
              "      <td>2.000000</td>\n",
              "      <td>0.000000</td>\n",
              "      <td>3.000000</td>\n",
              "      <td>1.000000</td>\n",
              "    </tr>\n",
              "    <tr>\n",
              "      <th>75%</th>\n",
              "      <td>61.000000</td>\n",
              "      <td>1.000000</td>\n",
              "      <td>4.000000</td>\n",
              "      <td>140.000000</td>\n",
              "      <td>280.000000</td>\n",
              "      <td>0.000000</td>\n",
              "      <td>2.000000</td>\n",
              "      <td>166.000000</td>\n",
              "      <td>1.000000</td>\n",
              "      <td>1.60000</td>\n",
              "      <td>2.000000</td>\n",
              "      <td>1.000000</td>\n",
              "      <td>7.000000</td>\n",
              "      <td>2.000000</td>\n",
              "    </tr>\n",
              "    <tr>\n",
              "      <th>max</th>\n",
              "      <td>77.000000</td>\n",
              "      <td>1.000000</td>\n",
              "      <td>4.000000</td>\n",
              "      <td>200.000000</td>\n",
              "      <td>564.000000</td>\n",
              "      <td>1.000000</td>\n",
              "      <td>2.000000</td>\n",
              "      <td>202.000000</td>\n",
              "      <td>1.000000</td>\n",
              "      <td>6.20000</td>\n",
              "      <td>3.000000</td>\n",
              "      <td>3.000000</td>\n",
              "      <td>7.000000</td>\n",
              "      <td>2.000000</td>\n",
              "    </tr>\n",
              "  </tbody>\n",
              "</table>\n",
              "</div>\n",
              "      <button class=\"colab-df-convert\" onclick=\"convertToInteractive('df-af767dd5-0179-4986-ab8e-41d680d5be29')\"\n",
              "              title=\"Convert this dataframe to an interactive table.\"\n",
              "              style=\"display:none;\">\n",
              "        \n",
              "  <svg xmlns=\"http://www.w3.org/2000/svg\" height=\"24px\"viewBox=\"0 0 24 24\"\n",
              "       width=\"24px\">\n",
              "    <path d=\"M0 0h24v24H0V0z\" fill=\"none\"/>\n",
              "    <path d=\"M18.56 5.44l.94 2.06.94-2.06 2.06-.94-2.06-.94-.94-2.06-.94 2.06-2.06.94zm-11 1L8.5 8.5l.94-2.06 2.06-.94-2.06-.94L8.5 2.5l-.94 2.06-2.06.94zm10 10l.94 2.06.94-2.06 2.06-.94-2.06-.94-.94-2.06-.94 2.06-2.06.94z\"/><path d=\"M17.41 7.96l-1.37-1.37c-.4-.4-.92-.59-1.43-.59-.52 0-1.04.2-1.43.59L10.3 9.45l-7.72 7.72c-.78.78-.78 2.05 0 2.83L4 21.41c.39.39.9.59 1.41.59.51 0 1.02-.2 1.41-.59l7.78-7.78 2.81-2.81c.8-.78.8-2.07 0-2.86zM5.41 20L4 18.59l7.72-7.72 1.47 1.35L5.41 20z\"/>\n",
              "  </svg>\n",
              "      </button>\n",
              "      \n",
              "  <style>\n",
              "    .colab-df-container {\n",
              "      display:flex;\n",
              "      flex-wrap:wrap;\n",
              "      gap: 12px;\n",
              "    }\n",
              "\n",
              "    .colab-df-convert {\n",
              "      background-color: #E8F0FE;\n",
              "      border: none;\n",
              "      border-radius: 50%;\n",
              "      cursor: pointer;\n",
              "      display: none;\n",
              "      fill: #1967D2;\n",
              "      height: 32px;\n",
              "      padding: 0 0 0 0;\n",
              "      width: 32px;\n",
              "    }\n",
              "\n",
              "    .colab-df-convert:hover {\n",
              "      background-color: #E2EBFA;\n",
              "      box-shadow: 0px 1px 2px rgba(60, 64, 67, 0.3), 0px 1px 3px 1px rgba(60, 64, 67, 0.15);\n",
              "      fill: #174EA6;\n",
              "    }\n",
              "\n",
              "    [theme=dark] .colab-df-convert {\n",
              "      background-color: #3B4455;\n",
              "      fill: #D2E3FC;\n",
              "    }\n",
              "\n",
              "    [theme=dark] .colab-df-convert:hover {\n",
              "      background-color: #434B5C;\n",
              "      box-shadow: 0px 1px 3px 1px rgba(0, 0, 0, 0.15);\n",
              "      filter: drop-shadow(0px 1px 2px rgba(0, 0, 0, 0.3));\n",
              "      fill: #FFFFFF;\n",
              "    }\n",
              "  </style>\n",
              "\n",
              "      <script>\n",
              "        const buttonEl =\n",
              "          document.querySelector('#df-af767dd5-0179-4986-ab8e-41d680d5be29 button.colab-df-convert');\n",
              "        buttonEl.style.display =\n",
              "          google.colab.kernel.accessAllowed ? 'block' : 'none';\n",
              "\n",
              "        async function convertToInteractive(key) {\n",
              "          const element = document.querySelector('#df-af767dd5-0179-4986-ab8e-41d680d5be29');\n",
              "          const dataTable =\n",
              "            await google.colab.kernel.invokeFunction('convertToInteractive',\n",
              "                                                     [key], {});\n",
              "          if (!dataTable) return;\n",
              "\n",
              "          const docLinkHtml = 'Like what you see? Visit the ' +\n",
              "            '<a target=\"_blank\" href=https://colab.research.google.com/notebooks/data_table.ipynb>data table notebook</a>'\n",
              "            + ' to learn more about interactive tables.';\n",
              "          element.innerHTML = '';\n",
              "          dataTable['output_type'] = 'display_data';\n",
              "          await google.colab.output.renderOutput(dataTable, element);\n",
              "          const docLink = document.createElement('div');\n",
              "          docLink.innerHTML = docLinkHtml;\n",
              "          element.appendChild(docLink);\n",
              "        }\n",
              "      </script>\n",
              "    </div>\n",
              "  </div>\n",
              "  "
            ]
          },
          "metadata": {},
          "execution_count": 159
        }
      ]
    },
    {
      "cell_type": "code",
      "source": [
        "#checks if any columns/rows have null values\n",
        "data.isnull().sum()"
      ],
      "metadata": {
        "colab": {
          "base_uri": "https://localhost:8080/"
        },
        "id": "GAbnfXfLFHXr",
        "outputId": "32771b27-227a-4dd3-bcf5-839897a484d7"
      },
      "execution_count": null,
      "outputs": [
        {
          "output_type": "execute_result",
          "data": {
            "text/plain": [
              "age                            0\n",
              "sex                            0\n",
              "chestpaintype                  0\n",
              "blood-pressure                 0\n",
              "serumcholesterol               0\n",
              "fastingbloodsugar              0\n",
              "electrocardiographicresults    0\n",
              "maxhearrate                    0\n",
              "exerciseangina                 0\n",
              "oldpeak                        0\n",
              "slopepeakexercise              0\n",
              "noofmajorvessels               0\n",
              "reversable-defect              0\n",
              "labels                         0\n",
              "dtype: int64"
            ]
          },
          "metadata": {},
          "execution_count": 21
        }
      ]
    },
    {
      "cell_type": "code",
      "source": [
        "#splitting the dataset into features and labels\n",
        "x = data.iloc[:,:13].values\n",
        "y = data['labels'].values"
      ],
      "metadata": {
        "id": "QXtyfWWMFM7m"
      },
      "execution_count": null,
      "outputs": []
    },
    {
      "cell_type": "code",
      "source": [
        "#splitting the dataset into train and test\n",
        "from sklearn.model_selection import train_test_split\n",
        "x_train, x_test, y_train, y_test = train_test_split(x, y, test_size = 0.2)"
      ],
      "metadata": {
        "id": "cYKUlSIVFCtw"
      },
      "execution_count": null,
      "outputs": []
    },
    {
      "cell_type": "code",
      "source": [
        "#performing feature scaling for the dataset\n",
        "from sklearn.preprocessing import StandardScaler\n",
        "sc = StandardScaler()\n",
        "x_train = sc.fit_transform(x_train)\n",
        "x_test = sc.transform(x_test)"
      ],
      "metadata": {
        "id": "9m9k1KQ_Fipt"
      },
      "execution_count": null,
      "outputs": []
    },
    {
      "cell_type": "code",
      "source": [
        "#NAIVE BAYES\n",
        "#importing the and training the model\n",
        "from sklearn.naive_bayes import GaussianNB\n",
        "classifier = GaussianNB()\n",
        "classifier.fit(x_train, y_train)\n",
        "#testing the model\n",
        "y_pred = classifier.predict(x_test) "
      ],
      "metadata": {
        "id": "idvXNSsZAS7t"
      },
      "execution_count": null,
      "outputs": []
    },
    {
      "cell_type": "code",
      "source": [
        "#calculating the metrics NAIVE BAYES\n",
        "print(\"Accuracy score: \" + str(accuracy_score(y_test, y_pred)))\n",
        "cm=confusion_matrix(y_test, y_pred)\n",
        "print(\"\\nConfusion matrix: \\n\" + str(confusion_matrix(y_test, y_pred)))\n",
        "print(\"F1 score: \" + str(f1_score(y_test, y_pred,average='micro')))\n",
        "TP = cm[1][1]\n",
        "TN = cm[0][0]\n",
        "FP = cm[0][1]\n",
        "FN = cm[1][0]\n",
        "accNB=str(accuracy_score(y_test, y_pred))\n",
        "conf_sensitivityNB = (TP / float(TP + FN))\n",
        "conf_specificityNB = (TN / float(TN + FP))\n",
        "print(f'Sensitivity: {round(conf_sensitivityNB,2)}') \n",
        "print(f'Specificity: {round(conf_specificityNB,2)}')\n",
        "\n"
      ],
      "metadata": {
        "colab": {
          "base_uri": "https://localhost:8080/"
        },
        "id": "3U9x_nnGGWPo",
        "outputId": "92947527-e77d-4417-b126-3a5607a19059"
      },
      "execution_count": null,
      "outputs": [
        {
          "output_type": "stream",
          "name": "stdout",
          "text": [
            "Accuracy score: 0.8148148148148148\n",
            "\n",
            "Confusion matrix: \n",
            "[[24  4]\n",
            " [ 6 20]]\n",
            "F1 score: 0.8148148148148148\n",
            "Sensitivity: 0.77\n",
            "Specificity: 0.86\n"
          ]
        }
      ]
    },
    {
      "cell_type": "code",
      "source": [
        "#import KNeighborsClassifier\n",
        "from sklearn.neighbors import KNeighborsClassifier\n",
        "knn = KNeighborsClassifier(n_neighbors=4)\n",
        "knn.fit(x_train, y_train)\n",
        "y_pred = knn.predict(x_test)\n",
        "    "
      ],
      "metadata": {
        "id": "MndkyJ2XG00-"
      },
      "execution_count": null,
      "outputs": []
    },
    {
      "cell_type": "code",
      "source": [
        "#calculating the metrics KNN\n",
        "print(\"Accuracy score: \" + str(accuracy_score(y_test, y_pred)))\n",
        "cm=confusion_matrix(y_test, y_pred)\n",
        "print(\"\\nConfusion matrix: \\n\" + str(confusion_matrix(y_test, y_pred)))\n",
        "print(\"F1 score: \" + str(f1_score(y_test, y_pred,average='micro')))\n",
        "TP = cm[1][1]\n",
        "TN = cm[0][0]\n",
        "FP = cm[0][1]\n",
        "FN = cm[1][0]\n",
        "accKNN=str(accuracy_score(y_test, y_pred))\n",
        "conf_sensitivityKNN = (TP / float(TP + FN))\n",
        "conf_specificityKNN = (TN / float(TN + FP))\n",
        "print(f'Sensitivity: {round(conf_sensitivityKNN,2)}') \n",
        "print(f'Specificity: {round(conf_specificityKNN,2)}') "
      ],
      "metadata": {
        "colab": {
          "base_uri": "https://localhost:8080/"
        },
        "id": "1L2yYTi8M968",
        "outputId": "9f3bbf54-e8b1-4bf2-eae5-4e6cb03f04e2"
      },
      "execution_count": null,
      "outputs": [
        {
          "output_type": "stream",
          "name": "stdout",
          "text": [
            "Accuracy score: 0.7777777777777778\n",
            "\n",
            "Confusion matrix: \n",
            "[[25  3]\n",
            " [ 9 17]]\n",
            "F1 score: 0.7777777777777778\n",
            "Sensitivity: 0.65\n",
            "Specificity: 0.89\n"
          ]
        }
      ]
    },
    {
      "cell_type": "code",
      "source": [
        "#DecsionTree\n",
        "from sklearn.tree import DecisionTreeClassifier\n",
        "ppn = DecisionTreeClassifier(criterion = 'entropy', max_depth = 3, random_state = 1)\n",
        "ppn.fit(x_train, y_train)\n",
        "y_pred=ppn.predict(x_test)"
      ],
      "metadata": {
        "id": "2Kil8-e6NEzA"
      },
      "execution_count": null,
      "outputs": []
    },
    {
      "cell_type": "code",
      "source": [
        "#calculating the metrics Decision Tree\n",
        "print(\"Accuracy score: \" + str(accuracy_score(y_test, y_pred)))\n",
        "cm=confusion_matrix(y_test, y_pred)\n",
        "print(\"\\nConfusion matrix: \\n\" + str(confusion_matrix(y_test, y_pred)))\n",
        "print(\"F1 score: \" + str(f1_score(y_test, y_pred,average='micro')))\n",
        "TP = cm[1][1]\n",
        "TN = cm[0][0]\n",
        "FP = cm[0][1]\n",
        "FN = cm[1][0]\n",
        "accDT=str(accuracy_score(y_test, y_pred))\n",
        "conf_sensitivityDT = (TP / float(TP + FN))\n",
        "conf_specificityDT = (TN / float(TN + FP))\n",
        "print(f'Sensitivity: {round(conf_sensitivityDT,2)}') \n",
        "print(f'Specificity: {round(conf_specificityDT,2)}') "
      ],
      "metadata": {
        "colab": {
          "base_uri": "https://localhost:8080/"
        },
        "id": "23VTpYf7YQte",
        "outputId": "8bc5e031-a961-4b9a-e152-26fe50cbe8ef"
      },
      "execution_count": null,
      "outputs": [
        {
          "output_type": "stream",
          "name": "stdout",
          "text": [
            "Accuracy score: 0.7407407407407407\n",
            "\n",
            "Confusion matrix: \n",
            "[[26  2]\n",
            " [12 14]]\n",
            "F1 score: 0.7407407407407407\n",
            "Sensitivity: 0.54\n",
            "Specificity: 0.93\n"
          ]
        }
      ]
    },
    {
      "cell_type": "code",
      "source": [
        "#developing LDA Model\n",
        "from sklearn.discriminant_analysis import LinearDiscriminantAnalysis\n",
        "lr = LinearDiscriminantAnalysis()\n",
        "lr.fit(x_train,y_train)\n",
        "y_pred=lr.predict(x_test)\n"
      ],
      "metadata": {
        "id": "K0B12p65YlbC"
      },
      "execution_count": null,
      "outputs": []
    },
    {
      "cell_type": "code",
      "source": [
        "#calculating the metrics LDA\n",
        "print(\"Accuracy score: \" + str(accuracy_score(y_test, y_pred)))\n",
        "cm=confusion_matrix(y_test, y_pred)\n",
        "print(\"\\nConfusion matrix: \\n\" + str(confusion_matrix(y_test, y_pred)))\n",
        "print(\"F1 score: \" + str(f1_score(y_test, y_pred,average='micro')))\n",
        "TP = cm[1][1]\n",
        "TN = cm[0][0]\n",
        "FP = cm[0][1]\n",
        "FN = cm[1][0]\n",
        "accLDA=str(accuracy_score(y_test, y_pred))\n",
        "conf_sensitivityLDA = (TP / float(TP + FN))\n",
        "conf_specificityLDA = (TN / float(TN + FP))\n",
        "print(f'Sensitivity: {round(conf_sensitivityLDA,2)}') \n",
        "print(f'Specificity: {round(conf_specificityLDA,2)}') "
      ],
      "metadata": {
        "colab": {
          "base_uri": "https://localhost:8080/"
        },
        "id": "SQY58-mCZKwi",
        "outputId": "f2880b6c-7d21-4904-e61f-38646d197c73"
      },
      "execution_count": null,
      "outputs": [
        {
          "output_type": "stream",
          "name": "stdout",
          "text": [
            "Accuracy score: 0.8148148148148148\n",
            "\n",
            "Confusion matrix: \n",
            "[[24  4]\n",
            " [ 6 20]]\n",
            "F1 score: 0.8148148148148148\n",
            "Sensitivity: 0.77\n",
            "Specificity: 0.86\n"
          ]
        }
      ]
    },
    {
      "cell_type": "code",
      "source": [
        "#developing QDA Model\n",
        "from sklearn.discriminant_analysis import QuadraticDiscriminantAnalysis\n",
        "clf = QuadraticDiscriminantAnalysis()\n",
        "clf.fit(x_train, y_train)\n",
        "y_pred=clf.predict(x_test)\n"
      ],
      "metadata": {
        "id": "BB2fIu1zZjO_"
      },
      "execution_count": null,
      "outputs": []
    },
    {
      "cell_type": "code",
      "source": [
        "#calculating the metrics QDA\n",
        "print(\"Accuracy score: \" + str(accuracy_score(y_test, y_pred)))\n",
        "cm=confusion_matrix(y_test, y_pred)\n",
        "print(\"\\nConfusion matrix: \\n\" + str(confusion_matrix(y_test, y_pred)))\n",
        "print(\"F1 score: \" + str(f1_score(y_test, y_pred,average='micro')))\n",
        "TP = cm[1][1]\n",
        "TN = cm[0][0]\n",
        "FP = cm[0][1]\n",
        "FN = cm[1][0]\n",
        "accQDA=str(accuracy_score(y_test, y_pred))\n",
        "conf_sensitivityQDA = (TP / float(TP + FN))\n",
        "conf_specificityQDA = (TN / float(TN + FP))\n",
        "print(f'Sensitivity: {round(conf_sensitivityQDA,2)}') \n",
        "print(f'Specificity: {round(conf_specificityQDA,2)}') "
      ],
      "metadata": {
        "colab": {
          "base_uri": "https://localhost:8080/"
        },
        "id": "HEDttzpEaRgd",
        "outputId": "3e6ae6f2-103c-4bb1-f096-fd84c68d26f6"
      },
      "execution_count": null,
      "outputs": [
        {
          "output_type": "stream",
          "name": "stdout",
          "text": [
            "Accuracy score: 0.7777777777777778\n",
            "\n",
            "Confusion matrix: \n",
            "[[24  4]\n",
            " [ 8 18]]\n",
            "F1 score: 0.7777777777777778\n",
            "Sensitivity: 0.69\n",
            "Specificity: 0.86\n"
          ]
        }
      ]
    },
    {
      "cell_type": "code",
      "source": [
        "#Importing libraries to implement SFFS\n",
        "from mlxtend.plotting import plot_sequential_feature_selection as plot_sfs\n",
        "import matplotlib.pyplot as plt\n",
        "from sklearn.feature_selection import SequentialFeatureSelector as SFFS\n",
        "import six\n",
        "import sys\n",
        "sys.modules['sklearn.externals.six'] = six\n",
        "import mlrose\n",
        "import joblib\n",
        "sys.modules['sklearn.externals.joblib'] = joblib\n",
        "from mlxtend.feature_selection import SequentialFeatureSelector as SFS"
      ],
      "metadata": {
        "id": "ONLxaDWWhWZ3"
      },
      "execution_count": null,
      "outputs": []
    },
    {
      "cell_type": "code",
      "source": [
        "#RUNNING SFFS FOR NAIVE\n",
        "sffs = SFS(classifier, \n",
        "          k_features=(1,13), \n",
        "          forward=True, \n",
        "          floating=True, # Floating\n",
        "          scoring='neg_mean_squared_error',\n",
        "          cv=5)\n",
        "data.columns=['age','sex','chestpaintype','blood-pressure','serumcholesterol','fastingbloodsugar','electrocardiographicresults','maxhearrate',\n",
        "                         'exerciseangina','oldpeak','slopepeakexercise','noofmajorvessels','reversable-defect','labels']\n",
        "X=data[['age','sex','chestpaintype','blood-pressure','serumcholesterol','fastingbloodsugar','electrocardiographicresults','maxhearrate',\n",
        "                         'exerciseangina','oldpeak','slopepeakexercise','noofmajorvessels','reversable-defect']]\n",
        "y=data['labels']\n",
        "\n",
        "#FITTING SFFS\n",
        "sffs = sffs.fit(X.values, y.values)\n",
        "a=sffs.get_metric_dict()\n",
        "n=[]\n",
        "o=[]\n",
        "# Compute the mean cross validation score\n",
        "for i in np.arange(1,13):\n",
        "    n.append(-np.mean(a[i]['cv_scores']))  \n",
        "    \n",
        "m=np.arange(1,13)\n",
        "\n",
        "#PLOTTING SFFFS FOR NAIVE\n",
        "fig4=plt.plot(m,n)\n",
        "fig4=plt.title('SFFS: Mean CV Scores vs No of features')\n",
        "fig4.figure.savefig('fig1.png', bbox_inches='tight')\n",
        "print(pd.DataFrame.from_dict(sffs.get_metric_dict(confidence_interval=0.90)).T)\n",
        "# Get the index of the minimum CV score\n",
        "idx = np.argmin(n)\n",
        "print (\"No of features=\",idx)\n",
        "#Get the features indices for the best backward floating fit and convert to list\n",
        "b=list(a[idx]['feature_idx'])\n",
        "print(b)\n",
        "print(\"#################################################################################\")\n",
        "# Index the column names. \n",
        "# Features from forward fit\n",
        "print(\"Features selected in forward floating fit\")\n",
        "print(X.columns[b])"
      ],
      "metadata": {
        "colab": {
          "base_uri": "https://localhost:8080/",
          "height": 1000
        },
        "id": "kXTtcI0p49cl",
        "outputId": "a231a547-0017-4bc1-a273-d22b3a341a7d"
      },
      "execution_count": null,
      "outputs": [
        {
          "output_type": "stream",
          "name": "stdout",
          "text": [
            "                                   feature_idx  \\\n",
            "1                                        (12,)   \n",
            "2                                     (11, 12)   \n",
            "3                                  (8, 11, 12)   \n",
            "4                               (7, 8, 11, 12)   \n",
            "5                            (2, 7, 8, 11, 12)   \n",
            "6                         (2, 6, 7, 8, 11, 12)   \n",
            "7                      (2, 6, 7, 8, 9, 11, 12)   \n",
            "8                   (1, 2, 6, 7, 8, 9, 11, 12)   \n",
            "9                (1, 2, 5, 6, 7, 8, 9, 11, 12)   \n",
            "10            (0, 1, 2, 5, 6, 7, 8, 9, 11, 12)   \n",
            "11         (0, 1, 2, 3, 5, 6, 7, 8, 9, 11, 12)   \n",
            "12      (0, 1, 2, 3, 4, 5, 6, 7, 8, 9, 11, 12)   \n",
            "13  (0, 1, 2, 3, 4, 5, 6, 7, 8, 9, 10, 11, 12)   \n",
            "\n",
            "                                            cv_scores avg_score  \\\n",
            "1   [-0.24074074074074073, -0.24074074074074073, -... -0.237037   \n",
            "2   [-0.2037037037037037, -0.2222222222222222, -0.... -0.207407   \n",
            "3   [-0.25925925925925924, -0.18518518518518517, -... -0.188889   \n",
            "4   [-0.2037037037037037, -0.14814814814814814, -0... -0.166667   \n",
            "5   [-0.24074074074074073, -0.14814814814814814, -... -0.162963   \n",
            "6   [-0.2222222222222222, -0.12962962962962962, -0... -0.155556   \n",
            "7   [-0.2037037037037037, -0.16666666666666666, -0... -0.151852   \n",
            "8   [-0.16666666666666666, -0.14814814814814814, -... -0.140741   \n",
            "9   [-0.16666666666666666, -0.14814814814814814, -... -0.144444   \n",
            "10  [-0.16666666666666666, -0.14814814814814814, -... -0.148148   \n",
            "11  [-0.16666666666666666, -0.14814814814814814, -... -0.148148   \n",
            "12  [-0.18518518518518517, -0.14814814814814814, -... -0.155556   \n",
            "13  [-0.18518518518518517, -0.16666666666666666, -... -0.159259   \n",
            "\n",
            "                                 feature_names  ci_bound   std_dev   std_err  \n",
            "1                                        (12,)  0.013962  0.013858  0.006929  \n",
            "2                                     (11, 12)  0.013962  0.013858  0.006929  \n",
            "3                                  (8, 11, 12)  0.043196  0.042873  0.021437  \n",
            "4                               (7, 8, 11, 12)  0.031221  0.030987  0.015494  \n",
            "5                            (2, 7, 8, 11, 12)  0.046308  0.045962  0.022981  \n",
            "6                         (2, 6, 7, 8, 11, 12)  0.041887  0.041574  0.020787  \n",
            "7                      (2, 6, 7, 8, 9, 11, 12)    0.0321   0.03186   0.01593  \n",
            "8                   (1, 2, 6, 7, 8, 9, 11, 12)  0.019027  0.018885  0.009443  \n",
            "9                (1, 2, 5, 6, 7, 8, 9, 11, 12)  0.021759  0.021596  0.010798  \n",
            "10            (0, 1, 2, 5, 6, 7, 8, 9, 11, 12)    0.0118  0.011712  0.005856  \n",
            "11         (0, 1, 2, 3, 5, 6, 7, 8, 9, 11, 12)    0.0118  0.011712  0.005856  \n",
            "12      (0, 1, 2, 3, 4, 5, 6, 7, 8, 9, 11, 12)  0.019027  0.018885  0.009443  \n",
            "13  (0, 1, 2, 3, 4, 5, 6, 7, 8, 9, 10, 11, 12)  0.025309   0.02512   0.01256  \n",
            "No of features= 7\n",
            "[2, 6, 7, 8, 9, 11, 12]\n",
            "#################################################################################\n",
            "Features selected in forward floating fit\n",
            "Index(['chestpaintype', 'electrocardiographicresults', 'maxhearrate',\n",
            "       'exerciseangina', 'oldpeak', 'noofmajorvessels', 'reversable-defect'],\n",
            "      dtype='object')\n"
          ]
        },
        {
          "output_type": "display_data",
          "data": {
            "text/plain": [
              "<Figure size 432x288 with 1 Axes>"
            ],
            "image/png": "[encoded data removed]"
          },
          "metadata": {
            "needs_background": "light"
          }
        }
      ]
    },
    {
      "cell_type": "code",
      "source": [
        "#CREATING NEW MODEL AFTER SFFS- NAIVE\n",
        "X_updated=data.iloc[:,b]\n",
        "x_train, x_test, y_train, y_test = train_test_split(X_updated, y, test_size = 0.2)\n",
        "classifier.fit(x_train, y_train)\n",
        "#testing the model\n",
        "y_pred = classifier.predict(x_test) \n"
      ],
      "metadata": {
        "id": "63kHc7CzC4ro"
      },
      "execution_count": null,
      "outputs": []
    },
    {
      "cell_type": "code",
      "source": [
        "#CALCULATING METRICES AFTER SFFS- NAIVE\n",
        "print(\"Accuracy score: \" + str(accuracy_score(y_test, y_pred)))\n",
        "cm=confusion_matrix(y_test, y_pred)\n",
        "print(\"\\nConfusion matrix: \\n\" + str(confusion_matrix(y_test, y_pred)))\n",
        "print(\"F1 score: \" + str(f1_score(y_test, y_pred,average='micro')))\n",
        "TP = cm[1][1]\n",
        "TN = cm[0][0]\n",
        "FP = cm[0][1]\n",
        "FN = cm[1][0]\n",
        "accSNB=str(accuracy_score(y_test, y_pred))\n",
        "conf_sensitivitySNB = (TP / float(TP + FN))\n",
        "conf_specificitySNB = (TN / float(TN + FP))\n",
        "print(f'Sensitivity: {round(conf_sensitivitySNB,2)}') \n",
        "print(f'Specificity: {round(conf_specificitySNB,2)}') "
      ],
      "metadata": {
        "colab": {
          "base_uri": "https://localhost:8080/"
        },
        "id": "-hsWg4AUGjwt",
        "outputId": "44d8ab31-5052-4a93-81a7-e7d02902953c"
      },
      "execution_count": null,
      "outputs": [
        {
          "output_type": "stream",
          "name": "stdout",
          "text": [
            "Accuracy score: 0.8333333333333334\n",
            "\n",
            "Confusion matrix: \n",
            "[[24  6]\n",
            " [ 3 21]]\n",
            "F1 score: 0.8333333333333334\n",
            "Sensitivity: 0.88\n",
            "Specificity: 0.8\n"
          ]
        }
      ]
    },
    {
      "cell_type": "code",
      "source": [
        "#RUNNING SFFS FOR KNN\n",
        "sffs = SFS(knn, \n",
        "          k_features=(1,13), \n",
        "          forward=True, \n",
        "          floating=True, # Floating\n",
        "          scoring='neg_mean_squared_error',\n",
        "          cv=5)\n",
        "data.columns=['age','sex','chestpaintype','blood-pressure','serumcholesterol','fastingbloodsugar','electrocardiographicresults','maxhearrate',\n",
        "                         'exerciseangina','oldpeak','slopepeakexercise','noofmajorvessels','reversable-defect','labels']\n",
        "X=data[['age','sex','chestpaintype','blood-pressure','serumcholesterol','fastingbloodsugar','electrocardiographicresults','maxhearrate',\n",
        "                         'exerciseangina','oldpeak','slopepeakexercise','noofmajorvessels','reversable-defect']]\n",
        "y=data['labels']\n",
        "\n",
        "#FITTING SFFS\n",
        "sffs = sffs.fit(X.values, y.values)\n",
        "a=sffs.get_metric_dict()\n",
        "n=[]\n",
        "o=[]\n",
        "# Compute the mean cross validation score\n",
        "for i in np.arange(1,13):\n",
        "    n.append(-np.mean(a[i]['cv_scores']))  \n",
        "    \n",
        "m=np.arange(1,13)\n",
        "\n",
        "#PLOTTING SFFFS FOR KNN\n",
        "fig4=plt.plot(m,n)\n",
        "fig4=plt.title('SFFS: Mean CV Scores vs No of features')\n",
        "fig4.figure.savefig('fig2.png', bbox_inches='tight')\n",
        "print(pd.DataFrame.from_dict(sffs.get_metric_dict(confidence_interval=0.90)).T)\n",
        "# Get the index of the minimum CV score\n",
        "idx = np.argmin(n)\n",
        "print (\"No of features=\",idx)\n",
        "#Get the features indices for the best backward floating fit and convert to list\n",
        "b=list(a[idx]['feature_idx'])\n",
        "print(b)\n",
        "print(\"#################################################################################\")\n",
        "# Index the column names. \n",
        "# Features from forward fit\n",
        "print(\"Features selected in forward floating fit\")\n",
        "print(X.columns[b])"
      ],
      "metadata": {
        "colab": {
          "base_uri": "https://localhost:8080/",
          "height": 1000
        },
        "id": "tHJqi0iNMWZJ",
        "outputId": "39c57c0f-8736-4a27-b869-fc7cf15f6087"
      },
      "execution_count": null,
      "outputs": [
        {
          "output_type": "stream",
          "name": "stdout",
          "text": [
            "                                   feature_idx  \\\n",
            "1                                        (11,)   \n",
            "2                                      (1, 11)   \n",
            "3                                  (1, 11, 12)   \n",
            "4                              (2, 10, 11, 12)   \n",
            "5                           (1, 2, 10, 11, 12)   \n",
            "6                        (1, 2, 6, 10, 11, 12)   \n",
            "7                     (1, 2, 5, 6, 10, 11, 12)   \n",
            "8                  (1, 2, 5, 6, 9, 10, 11, 12)   \n",
            "9               (1, 2, 5, 6, 8, 9, 10, 11, 12)   \n",
            "10           (0, 1, 2, 5, 6, 8, 9, 10, 11, 12)   \n",
            "11        (0, 1, 2, 5, 6, 7, 8, 9, 10, 11, 12)   \n",
            "12     (0, 1, 2, 4, 5, 6, 7, 8, 9, 10, 11, 12)   \n",
            "13  (0, 1, 2, 3, 4, 5, 6, 7, 8, 9, 10, 11, 12)   \n",
            "\n",
            "                                            cv_scores avg_score  \\\n",
            "1   [-0.25925925925925924, -0.3888888888888889, -0... -0.318519   \n",
            "2   [-0.16666666666666666, -0.24074074074074073, -... -0.233333   \n",
            "3   [-0.2037037037037037, -0.16666666666666666, -0...  -0.22963   \n",
            "4   [-0.18518518518518517, -0.12962962962962962, -... -0.159259   \n",
            "5   [-0.2222222222222222, -0.12962962962962962, -0...  -0.17037   \n",
            "6   [-0.24074074074074073, -0.12962962962962962, -...  -0.17037   \n",
            "7   [-0.2222222222222222, -0.12962962962962962, -0... -0.159259   \n",
            "8   [-0.18518518518518517, -0.18518518518518517, -... -0.174074   \n",
            "9   [-0.16666666666666666, -0.14814814814814814, -... -0.155556   \n",
            "10  [-0.25925925925925924, -0.2037037037037037, -0... -0.214815   \n",
            "11  [-0.35185185185185186, -0.25925925925925924, -...  -0.32963   \n",
            "12  [-0.37037037037037035, -0.35185185185185186, -... -0.355556   \n",
            "13  [-0.4074074074074074, -0.2962962962962963, -0.... -0.355556   \n",
            "\n",
            "                                 feature_names  ci_bound   std_dev   std_err  \n",
            "1                                        (11,)  0.047787  0.047431  0.023715  \n",
            "2                                      (1, 11)  0.041887  0.041574  0.020787  \n",
            "3                                  (1, 11, 12)  0.049505  0.049135  0.024568  \n",
            "4                              (2, 10, 11, 12)   0.04019   0.03989  0.019945  \n",
            "5                           (1, 2, 10, 11, 12)  0.046308  0.045962  0.022981  \n",
            "6                        (1, 2, 6, 10, 11, 12)  0.067168  0.066667  0.033333  \n",
            "7                     (1, 2, 5, 6, 10, 11, 12)  0.053558  0.053158  0.026579  \n",
            "8                  (1, 2, 5, 6, 9, 10, 11, 12)  0.014926  0.014815  0.007407  \n",
            "9               (1, 2, 5, 6, 8, 9, 10, 11, 12)  0.034605  0.034347  0.017173  \n",
            "10           (0, 1, 2, 5, 6, 8, 9, 10, 11, 12)  0.048078  0.047719  0.023859  \n",
            "11        (0, 1, 2, 5, 6, 7, 8, 9, 10, 11, 12)  0.043196  0.042873  0.021437  \n",
            "12     (0, 1, 2, 4, 5, 6, 7, 8, 9, 10, 11, 12)  0.041553  0.041243  0.020621  \n",
            "13  (0, 1, 2, 3, 4, 5, 6, 7, 8, 9, 10, 11, 12)  0.051975  0.051587  0.025793  \n",
            "No of features= 8\n",
            "[1, 2, 5, 6, 9, 10, 11, 12]\n",
            "#################################################################################\n",
            "Features selected in forward floating fit\n",
            "Index(['sex', 'chestpaintype', 'fastingbloodsugar',\n",
            "       'electrocardiographicresults', 'oldpeak', 'slopepeakexercise',\n",
            "       'noofmajorvessels', 'reversable-defect'],\n",
            "      dtype='object')\n"
          ]
        },
        {
          "output_type": "display_data",
          "data": {
            "text/plain": [
              "<Figure size 432x288 with 1 Axes>"
            ],
            "image/png": "[encoded data removed]"
          },
          "metadata": {
            "needs_background": "light"
          }
        }
      ]
    },
    {
      "cell_type": "code",
      "source": [
        "#CREATING NEW MODEL AFTER SFFS- KNN\n",
        "X_updated=data.iloc[:,b]\n",
        "x_train, x_test, y_train, y_test = train_test_split(X_updated, y, test_size = 0.2)\n",
        "knn.fit(x_train, y_train)\n",
        "#testing the model\n",
        "y_pred = knn.predict(x_test) \n"
      ],
      "metadata": {
        "id": "8db6Mc3lMs-T"
      },
      "execution_count": null,
      "outputs": []
    },
    {
      "cell_type": "code",
      "source": [
        "#CALCULATING METRICES AFTER SFFS- KNN\n",
        "print(\"Accuracy score: \" + str(accuracy_score(y_test, y_pred)))\n",
        "cm=confusion_matrix(y_test, y_pred)\n",
        "print(\"\\nConfusion matrix: \\n\" + str(confusion_matrix(y_test, y_pred)))\n",
        "print(\"F1 score: \" + str(f1_score(y_test, y_pred,average='micro')))\n",
        "TP = cm[1][1]\n",
        "TN = cm[0][0]\n",
        "FP = cm[0][1]\n",
        "FN = cm[1][0]\n",
        "accSKNN=str(accuracy_score(y_test, y_pred)) \n",
        "conf_sensitivitySKNN = (TP / float(TP + FN))\n",
        "conf_specificitySKNN = (TN / float(TN + FP))\n",
        "print(f'Sensitivity: {round(conf_sensitivitySKNN,2)}') \n",
        "print(f'Specificity: {round(conf_specificitySKNN,2)}') "
      ],
      "metadata": {
        "colab": {
          "base_uri": "https://localhost:8080/"
        },
        "id": "1JFoG6G6MvgQ",
        "outputId": "6394f917-6706-46ee-9132-15cac8d5e435"
      },
      "execution_count": null,
      "outputs": [
        {
          "output_type": "stream",
          "name": "stdout",
          "text": [
            "Accuracy score: 0.8148148148148148\n",
            "\n",
            "Confusion matrix: \n",
            "[[32  3]\n",
            " [ 7 12]]\n",
            "F1 score: 0.8148148148148148\n",
            "Sensitivity: 0.63\n",
            "Specificity: 0.91\n"
          ]
        }
      ]
    },
    {
      "cell_type": "code",
      "source": [
        "#RUNNING SFFS FOR DT\n",
        "sffs = SFS(ppn, \n",
        "          k_features=(1,13), \n",
        "          forward=True, \n",
        "          floating=True, # Floating\n",
        "          scoring='neg_mean_squared_error',\n",
        "          cv=5)\n",
        "data.columns=['age','sex','chestpaintype','blood-pressure','serumcholesterol','fastingbloodsugar','electrocardiographicresults','maxhearrate',\n",
        "                         'exerciseangina','oldpeak','slopepeakexercise','noofmajorvessels','reversable-defect','labels']\n",
        "X=data[['age','sex','chestpaintype','blood-pressure','serumcholesterol','fastingbloodsugar','electrocardiographicresults','maxhearrate',\n",
        "                         'exerciseangina','oldpeak','slopepeakexercise','noofmajorvessels','reversable-defect']]\n",
        "y=data['labels']\n",
        "\n",
        "#FITTING SFFS\n",
        "sffs = sffs.fit(X.values, y.values)\n",
        "a=sffs.get_metric_dict()\n",
        "n=[]\n",
        "o=[]\n",
        "# Compute the mean cross validation score\n",
        "for i in np.arange(1,13):\n",
        "    n.append(-np.mean(a[i]['cv_scores']))  \n",
        "    \n",
        "m=np.arange(1,13)\n",
        "\n",
        "#PLOTTING SFFFS FOR DT\n",
        "fig4=plt.plot(m,n)\n",
        "fig4=plt.title('SFFS: Mean CV Scores vs No of features')\n",
        "fig4.figure.savefig('fig3.png', bbox_inches='tight')\n",
        "print(pd.DataFrame.from_dict(sffs.get_metric_dict(confidence_interval=0.90)).T)\n",
        "# Get the index of the minimum CV score\n",
        "idx = np.argmin(n)\n",
        "print (\"No of features=\",idx)\n",
        "#Get the features indices for the best backward floating fit and convert to list\n",
        "b=list(a[idx]['feature_idx'])\n",
        "print(b)\n",
        "print(\"#################################################################################\")\n",
        "# Index the column names. \n",
        "# Features from forward fit\n",
        "print(\"Features selected in forward floating fit\")\n",
        "print(X.columns[b])"
      ],
      "metadata": {
        "colab": {
          "base_uri": "https://localhost:8080/",
          "height": 1000
        },
        "id": "8kwco_iYM5ms",
        "outputId": "fc42325d-2511-45ec-d01d-8961075bf33f"
      },
      "execution_count": null,
      "outputs": [
        {
          "output_type": "stream",
          "name": "stdout",
          "text": [
            "                                   feature_idx  \\\n",
            "1                                        (12,)   \n",
            "2                                     (11, 12)   \n",
            "3                                  (2, 11, 12)   \n",
            "4                               (1, 2, 11, 12)   \n",
            "5                            (1, 2, 5, 11, 12)   \n",
            "6                         (1, 2, 5, 6, 11, 12)   \n",
            "7                      (1, 2, 3, 5, 6, 11, 12)   \n",
            "8                   (1, 2, 3, 5, 6, 8, 11, 12)   \n",
            "9                (1, 2, 3, 5, 6, 8, 9, 11, 12)   \n",
            "10            (0, 1, 2, 4, 5, 6, 8, 9, 11, 12)   \n",
            "11        (0, 1, 2, 4, 5, 6, 8, 9, 10, 11, 12)   \n",
            "12     (0, 1, 2, 3, 4, 5, 6, 8, 9, 10, 11, 12)   \n",
            "13  (0, 1, 2, 3, 4, 5, 6, 7, 8, 9, 10, 11, 12)   \n",
            "\n",
            "                                            cv_scores avg_score  \\\n",
            "1   [-0.2962962962962963, -0.24074074074074073, -0... -0.248148   \n",
            "2   [-0.24074074074074073, -0.2037037037037037, -0... -0.211111   \n",
            "3   [-0.24074074074074073, -0.14814814814814814, -... -0.155556   \n",
            "4   [-0.24074074074074073, -0.14814814814814814, -... -0.155556   \n",
            "5   [-0.24074074074074073, -0.14814814814814814, -... -0.155556   \n",
            "6   [-0.24074074074074073, -0.14814814814814814, -... -0.155556   \n",
            "7   [-0.25925925925925924, -0.16666666666666666, -... -0.162963   \n",
            "8   [-0.25925925925925924, -0.2037037037037037, -0...  -0.17037   \n",
            "9   [-0.25925925925925924, -0.2037037037037037, -0...  -0.17037   \n",
            "10  [-0.25925925925925924, -0.18518518518518517, -... -0.174074   \n",
            "11  [-0.25925925925925924, -0.18518518518518517, -... -0.174074   \n",
            "12  [-0.25925925925925924, -0.2037037037037037, -0... -0.177778   \n",
            "13  [-0.2777777777777778, -0.2037037037037037, -0.... -0.188889   \n",
            "\n",
            "                                 feature_names  ci_bound   std_dev   std_err  \n",
            "1                                        (12,)  0.027925  0.027716  0.013858  \n",
            "2                                     (11, 12)  0.019027  0.018885  0.009443  \n",
            "3                                  (2, 11, 12)  0.048078  0.047719  0.023859  \n",
            "4                               (1, 2, 11, 12)  0.048078  0.047719  0.023859  \n",
            "5                            (1, 2, 5, 11, 12)  0.048078  0.047719  0.023859  \n",
            "6                         (1, 2, 5, 6, 11, 12)  0.048078  0.047719  0.023859  \n",
            "7                      (1, 2, 3, 5, 6, 11, 12)  0.054588  0.054181   0.02709  \n",
            "8                   (1, 2, 3, 5, 6, 8, 11, 12)  0.057082  0.056656  0.028328  \n",
            "9                (1, 2, 3, 5, 6, 8, 9, 11, 12)  0.057082  0.056656  0.028328  \n",
            "10            (0, 1, 2, 4, 5, 6, 8, 9, 11, 12)  0.046607  0.046259   0.02313  \n",
            "11        (0, 1, 2, 4, 5, 6, 8, 9, 10, 11, 12)  0.046607  0.046259   0.02313  \n",
            "12     (0, 1, 2, 3, 4, 5, 6, 8, 9, 10, 11, 12)  0.048078  0.047719  0.023859  \n",
            "13  (0, 1, 2, 3, 4, 5, 6, 7, 8, 9, 10, 11, 12)  0.049223  0.048855  0.024428  \n",
            "No of features= 2\n",
            "[11, 12]\n",
            "#################################################################################\n",
            "Features selected in forward floating fit\n",
            "Index(['noofmajorvessels', 'reversable-defect'], dtype='object')\n"
          ]
        },
        {
          "output_type": "display_data",
          "data": {
            "text/plain": [
              "<Figure size 432x288 with 1 Axes>"
            ],
            "image/png": "[encoded data removed]"
          },
          "metadata": {
            "needs_background": "light"
          }
        }
      ]
    },
    {
      "cell_type": "code",
      "source": [
        "#CREATING NEW MODEL AFTER SFFS- DT\n",
        "X_updated=data.iloc[:,b]\n",
        "x_train, x_test, y_train, y_test = train_test_split(X_updated, y, test_size = 0.2)\n",
        "ppn.fit(x_train, y_train)\n",
        "#testing the model\n",
        "y_pred = ppn.predict(x_test) \n"
      ],
      "metadata": {
        "id": "V8EdPed8Nnun"
      },
      "execution_count": null,
      "outputs": []
    },
    {
      "cell_type": "code",
      "source": [
        "#CALCULATING METRICES AFTER SFFS- DT\n",
        "print(\"Accuracy score: \" + str(accuracy_score(y_test, y_pred)))\n",
        "cm=confusion_matrix(y_test, y_pred)\n",
        "print(\"\\nConfusion matrix: \\n\" + str(confusion_matrix(y_test, y_pred)))\n",
        "print(\"F1 score: \" + str(f1_score(y_test, y_pred,average='micro')))\n",
        "TP = cm[1][1]\n",
        "TN = cm[0][0]\n",
        "FP = cm[0][1]\n",
        "FN = cm[1][0]\n",
        "accSDT=str(accuracy_score(y_test, y_pred)) \n",
        "conf_sensitivitySDT = (TP / float(TP + FN))\n",
        "conf_specificitySDT = (TN / float(TN + FP))\n",
        "print(f'Sensitivity: {round(conf_sensitivitySDT,2)}') \n",
        "print(f'Specificity: {round(conf_specificitySDT,2)}') "
      ],
      "metadata": {
        "colab": {
          "base_uri": "https://localhost:8080/"
        },
        "id": "H55DvYTrNss_",
        "outputId": "c540f22f-971f-402f-c50a-36b22104107d"
      },
      "execution_count": null,
      "outputs": [
        {
          "output_type": "stream",
          "name": "stdout",
          "text": [
            "Accuracy score: 0.8518518518518519\n",
            "\n",
            "Confusion matrix: \n",
            "[[27  3]\n",
            " [ 5 19]]\n",
            "F1 score: 0.8518518518518519\n",
            "Sensitivity: 0.79\n",
            "Specificity: 0.9\n"
          ]
        }
      ]
    },
    {
      "cell_type": "code",
      "source": [
        "#RUNNING SFFS FOR LDA\n",
        "sffs = SFS(lr, \n",
        "          k_features=(1,13), \n",
        "          forward=True, \n",
        "          floating=True, # Floating\n",
        "          scoring='neg_mean_squared_error',\n",
        "          cv=5)\n",
        "data.columns=['age','sex','chestpaintype','blood-pressure','serumcholesterol','fastingbloodsugar','electrocardiographicresults','maxhearrate',\n",
        "                         'exerciseangina','oldpeak','slopepeakexercise','noofmajorvessels','reversable-defect','labels']\n",
        "X=data[['age','sex','chestpaintype','blood-pressure','serumcholesterol','fastingbloodsugar','electrocardiographicresults','maxhearrate',\n",
        "                         'exerciseangina','oldpeak','slopepeakexercise','noofmajorvessels','reversable-defect']]\n",
        "y=data['labels']\n",
        "\n",
        "#FITTING SFFS\n",
        "sffs = sffs.fit(X.values, y.values)\n",
        "a=sffs.get_metric_dict()\n",
        "n=[]\n",
        "o=[]\n",
        "# Compute the mean cross validation score\n",
        "for i in np.arange(1,13):\n",
        "    n.append(-np.mean(a[i]['cv_scores']))  \n",
        "    \n",
        "m=np.arange(1,13)\n",
        "\n",
        "#PLOTTING SFFFS FOR KNN\n",
        "fig4=plt.plot(m,n)\n",
        "fig4=plt.title('SFFS: Mean CV Scores vs No of features')\n",
        "fig4.figure.savefig('fig4.png', bbox_inches='tight')\n",
        "print(pd.DataFrame.from_dict(sffs.get_metric_dict(confidence_interval=0.90)).T)\n",
        "# Get the index of the minimum CV score\n",
        "idx = np.argmin(n)\n",
        "print (\"No of features=\",idx)\n",
        "#Get the features indices for the best backward floating fit and convert to list\n",
        "b=list(a[idx]['feature_idx'])\n",
        "print(b)\n",
        "print(\"#################################################################################\")\n",
        "# Index the column names. \n",
        "# Features from forward fit\n",
        "print(\"Features selected in forward floating fit\")\n",
        "print(X.columns[b])"
      ],
      "metadata": {
        "colab": {
          "base_uri": "https://localhost:8080/",
          "height": 1000
        },
        "id": "Tv_sKjTGOCOE",
        "outputId": "757e091a-4fc7-45b2-8caf-96a3740ee6df"
      },
      "execution_count": null,
      "outputs": [
        {
          "output_type": "stream",
          "name": "stdout",
          "text": [
            "                                   feature_idx  \\\n",
            "1                                        (12,)   \n",
            "2                                     (11, 12)   \n",
            "3                                  (8, 11, 12)   \n",
            "4                               (2, 8, 11, 12)   \n",
            "5                            (1, 2, 8, 11, 12)   \n",
            "6                         (1, 2, 8, 9, 11, 12)   \n",
            "7                      (1, 2, 5, 8, 9, 11, 12)   \n",
            "8                   (0, 1, 2, 5, 8, 9, 11, 12)   \n",
            "9                (0, 1, 2, 5, 7, 8, 9, 11, 12)   \n",
            "10           (0, 1, 2, 5, 7, 8, 9, 10, 11, 12)   \n",
            "11        (0, 1, 2, 3, 5, 7, 8, 9, 10, 11, 12)   \n",
            "12     (0, 1, 2, 3, 5, 6, 7, 8, 9, 10, 11, 12)   \n",
            "13  (0, 1, 2, 3, 4, 5, 6, 7, 8, 9, 10, 11, 12)   \n",
            "\n",
            "                                            cv_scores avg_score  \\\n",
            "1   [-0.24074074074074073, -0.24074074074074073, -... -0.237037   \n",
            "2   [-0.2037037037037037, -0.2037037037037037, -0.... -0.207407   \n",
            "3   [-0.18518518518518517, -0.16666666666666666, -... -0.166667   \n",
            "4   [-0.18518518518518517, -0.12962962962962962, -... -0.140741   \n",
            "5   [-0.16666666666666666, -0.12962962962962962, -... -0.148148   \n",
            "6   [-0.16666666666666666, -0.16666666666666666, -... -0.148148   \n",
            "7   [-0.16666666666666666, -0.16666666666666666, -... -0.144444   \n",
            "8   [-0.2037037037037037, -0.16666666666666666, -0... -0.151852   \n",
            "9   [-0.18518518518518517, -0.16666666666666666, -... -0.148148   \n",
            "10  [-0.18518518518518517, -0.14814814814814814, -... -0.144444   \n",
            "11  [-0.16666666666666666, -0.14814814814814814, -... -0.148148   \n",
            "12  [-0.2037037037037037, -0.16666666666666666, -0... -0.148148   \n",
            "13  [-0.2222222222222222, -0.16666666666666666, -0... -0.159259   \n",
            "\n",
            "                                 feature_names  ci_bound   std_dev   std_err  \n",
            "1                                        (12,)  0.013962  0.013858  0.006929  \n",
            "2                                     (11, 12)  0.013962  0.013858  0.006929  \n",
            "3                                  (8, 11, 12)    0.0118  0.011712  0.005856  \n",
            "4                               (2, 8, 11, 12)  0.032531  0.032288  0.016144  \n",
            "5                            (1, 2, 8, 11, 12)  0.033376  0.033127  0.016563  \n",
            "6                         (1, 2, 8, 9, 11, 12)  0.020439  0.020286  0.010143  \n",
            "7                      (1, 2, 5, 8, 9, 11, 12)  0.021759  0.021596  0.010798  \n",
            "8                   (0, 1, 2, 5, 8, 9, 11, 12)    0.0321   0.03186   0.01593  \n",
            "9                (0, 1, 2, 5, 7, 8, 9, 11, 12)  0.033376  0.033127  0.016563  \n",
            "10           (0, 1, 2, 5, 7, 8, 9, 10, 11, 12)    0.0321   0.03186   0.01593  \n",
            "11        (0, 1, 2, 3, 5, 7, 8, 9, 10, 11, 12)  0.020439  0.020286  0.010143  \n",
            "12     (0, 1, 2, 3, 5, 6, 7, 8, 9, 10, 11, 12)  0.037316  0.037037  0.018519  \n",
            "13  (0, 1, 2, 3, 4, 5, 6, 7, 8, 9, 10, 11, 12)  0.038419  0.038132  0.019066  \n",
            "No of features= 3\n",
            "[8, 11, 12]\n",
            "#################################################################################\n",
            "Features selected in forward floating fit\n",
            "Index(['exerciseangina', 'noofmajorvessels', 'reversable-defect'], dtype='object')\n"
          ]
        },
        {
          "output_type": "display_data",
          "data": {
            "text/plain": [
              "<Figure size 432x288 with 1 Axes>"
            ],
            "image/png": "[encoded data removed]"
          },
          "metadata": {
            "needs_background": "light"
          }
        }
      ]
    },
    {
      "cell_type": "code",
      "source": [
        "#CREATING NEW MODEL AFTER SFFS- LDA\n",
        "X_updated=data.iloc[:,b]\n",
        "x_train, x_test, y_train, y_test = train_test_split(X_updated, y, test_size = 0.2)\n",
        "lr.fit(x_train, y_train)\n",
        "#testing the model\n",
        "y_pred = lr.predict(x_test) \n"
      ],
      "metadata": {
        "id": "jQCziPmXOH3Q"
      },
      "execution_count": null,
      "outputs": []
    },
    {
      "cell_type": "code",
      "source": [
        "#CALCULATING METRICES AFTER SFFS- LDA\n",
        "print(\"Accuracy score: \" + str(accuracy_score(y_test, y_pred)))\n",
        "cm=confusion_matrix(y_test, y_pred)\n",
        "print(\"\\nConfusion matrix: \\n\" + str(confusion_matrix(y_test, y_pred)))\n",
        "print(\"F1 score: \" + str(f1_score(y_test, y_pred,average='micro')))\n",
        "TP = cm[1][1]\n",
        "TN = cm[0][0]\n",
        "FP = cm[0][1]\n",
        "FN = cm[1][0]\n",
        "accSLDA=str(accuracy_score(y_test, y_pred))\n",
        "conf_sensitivitySLDA = (TP / float(TP + FN))\n",
        "conf_specificitySLDA = (TN / float(TN + FP))\n",
        "print(f'Sensitivity: {round(conf_sensitivitySLDA,2)}') \n",
        "print(f'Specificity: {round(conf_specificitySLDA,2)}') "
      ],
      "metadata": {
        "colab": {
          "base_uri": "https://localhost:8080/"
        },
        "id": "xpazNsL_OOZu",
        "outputId": "f1cb0f79-2ce9-4797-e5d0-80075e9af0e3"
      },
      "execution_count": null,
      "outputs": [
        {
          "output_type": "stream",
          "name": "stdout",
          "text": [
            "Accuracy score: 0.7777777777777778\n",
            "\n",
            "Confusion matrix: \n",
            "[[27  4]\n",
            " [ 8 15]]\n",
            "F1 score: 0.7777777777777778\n",
            "Sensitivity: 0.65\n",
            "Specificity: 0.87\n"
          ]
        }
      ]
    },
    {
      "cell_type": "code",
      "source": [
        "#RUNNING SFFS FOR QDA\n",
        "sffs = SFS(clf, \n",
        "          k_features=(1,13), \n",
        "          forward=True, \n",
        "          floating=True, # Floating\n",
        "          scoring='neg_mean_squared_error',\n",
        "          cv=5)\n",
        "data.columns=['age','sex','chestpaintype','blood-pressure','serumcholesterol','fastingbloodsugar','electrocardiographicresults','maxhearrate',\n",
        "                         'exerciseangina','oldpeak','slopepeakexercise','noofmajorvessels','reversable-defect','labels']\n",
        "X=data[['age','sex','chestpaintype','blood-pressure','serumcholesterol','fastingbloodsugar','electrocardiographicresults','maxhearrate',\n",
        "                         'exerciseangina','oldpeak','slopepeakexercise','noofmajorvessels','reversable-defect']]\n",
        "y=data['labels']\n",
        "\n",
        "#FITTING SFFS\n",
        "sffs = sffs.fit(X.values, y.values)\n",
        "a=sffs.get_metric_dict()\n",
        "n=[]\n",
        "o=[]\n",
        "# Compute the mean cross validation score\n",
        "for i in np.arange(1,13):\n",
        "    n.append(-np.mean(a[i]['cv_scores']))  \n",
        "    \n",
        "m=np.arange(1,13)\n",
        "\n",
        "#PLOTTING SFFFS FOR KNN\n",
        "fig4=plt.plot(m,n)\n",
        "fig4=plt.title('SFFS: Mean CV Scores vs No of features')\n",
        "fig4.figure.savefig('fig5.png', bbox_inches='tight')\n",
        "print(pd.DataFrame.from_dict(sffs.get_metric_dict(confidence_interval=0.90)).T)\n",
        "# Get the index of the minimum CV score\n",
        "idx = np.argmin(n)\n",
        "print (\"No of features=\",idx)\n",
        "#Get the features indices for the best backward floating fit and convert to list\n",
        "b=list(a[idx]['feature_idx'])\n",
        "print(b)\n",
        "print(\"#################################################################################\")\n",
        "# Index the column names. \n",
        "# Features from forward fit\n",
        "print(\"Features selected in forward floating fit\")\n",
        "print(X.columns[b])"
      ],
      "metadata": {
        "colab": {
          "base_uri": "https://localhost:8080/",
          "height": 1000
        },
        "outputId": "010f9122-be35-4f03-ceeb-5be7bdd917cd",
        "id": "b8m0Y5Y4OwiV"
      },
      "execution_count": null,
      "outputs": [
        {
          "output_type": "stream",
          "name": "stdout",
          "text": [
            "                                   feature_idx  \\\n",
            "1                                        (12,)   \n",
            "2                                     (11, 12)   \n",
            "3                                  (8, 11, 12)   \n",
            "4                               (7, 8, 11, 12)   \n",
            "5                            (0, 7, 8, 11, 12)   \n",
            "6                         (0, 2, 7, 8, 11, 12)   \n",
            "7                      (0, 2, 6, 7, 8, 11, 12)   \n",
            "8                  (0, 2, 6, 7, 8, 10, 11, 12)   \n",
            "9               (0, 2, 4, 6, 7, 8, 10, 11, 12)   \n",
            "10           (0, 2, 4, 6, 7, 8, 9, 10, 11, 12)   \n",
            "11        (0, 1, 2, 3, 4, 6, 7, 9, 10, 11, 12)   \n",
            "12     (0, 1, 2, 3, 4, 6, 7, 8, 9, 10, 11, 12)   \n",
            "13  (0, 1, 2, 3, 4, 5, 6, 7, 8, 9, 10, 11, 12)   \n",
            "\n",
            "                                            cv_scores avg_score  \\\n",
            "1   [-0.24074074074074073, -0.24074074074074073, -... -0.237037   \n",
            "2   [-0.2037037037037037, -0.2222222222222222, -0.... -0.207407   \n",
            "3   [-0.25925925925925924, -0.18518518518518517, -... -0.188889   \n",
            "4   [-0.2037037037037037, -0.12962962962962962, -0... -0.166667   \n",
            "5   [-0.18518518518518517, -0.14814814814814814, -... -0.155556   \n",
            "6   [-0.16666666666666666, -0.16666666666666666, -... -0.159259   \n",
            "7   [-0.14814814814814814, -0.12962962962962962, -... -0.140741   \n",
            "8   [-0.12962962962962962, -0.09259259259259259, -...  -0.12963   \n",
            "9   [-0.14814814814814814, -0.1111111111111111, -0... -0.144444   \n",
            "10  [-0.14814814814814814, -0.18518518518518517, -... -0.155556   \n",
            "11  [-0.12962962962962962, -0.14814814814814814, -... -0.151852   \n",
            "12  [-0.14814814814814814, -0.18518518518518517, -... -0.166667   \n",
            "13  [-0.18518518518518517, -0.18518518518518517, -... -0.174074   \n",
            "\n",
            "                                 feature_names  ci_bound   std_dev   std_err  \n",
            "1                                        (12,)  0.013962  0.013858  0.006929  \n",
            "2                                     (11, 12)  0.013962  0.013858  0.006929  \n",
            "3                                  (8, 11, 12)  0.043196  0.042873  0.021437  \n",
            "4                               (7, 8, 11, 12)  0.033376  0.033127  0.016563  \n",
            "5                            (0, 7, 8, 11, 12)  0.034605  0.034347  0.017173  \n",
            "6                         (0, 2, 7, 8, 11, 12)  0.025309   0.02512   0.01256  \n",
            "7                      (0, 2, 6, 7, 8, 11, 12)  0.019027  0.018885  0.009443  \n",
            "8                  (0, 2, 6, 7, 8, 10, 11, 12)  0.026386  0.026189  0.013095  \n",
            "9               (0, 2, 4, 6, 7, 8, 10, 11, 12)  0.021759  0.021596  0.010798  \n",
            "10           (0, 2, 4, 6, 7, 8, 9, 10, 11, 12)  0.014926  0.014815  0.007407  \n",
            "11        (0, 1, 2, 3, 4, 6, 7, 9, 10, 11, 12)  0.018281  0.018144  0.009072  \n",
            "12     (0, 1, 2, 3, 4, 6, 7, 8, 9, 10, 11, 12)  0.033376  0.033127  0.016563  \n",
            "13  (0, 1, 2, 3, 4, 5, 6, 7, 8, 9, 10, 11, 12)  0.032531  0.032288  0.016144  \n",
            "No of features= 7\n",
            "[0, 2, 6, 7, 8, 11, 12]\n",
            "#################################################################################\n",
            "Features selected in forward floating fit\n",
            "Index(['age', 'chestpaintype', 'electrocardiographicresults', 'maxhearrate',\n",
            "       'exerciseangina', 'noofmajorvessels', 'reversable-defect'],\n",
            "      dtype='object')\n"
          ]
        },
        {
          "output_type": "display_data",
          "data": {
            "text/plain": [
              "<Figure size 432x288 with 1 Axes>"
            ],
            "image/png": "[encoded data removed]"
          },
          "metadata": {
            "needs_background": "light"
          }
        }
      ]
    },
    {
      "cell_type": "code",
      "source": [
        "#CREATING NEW MODEL AFTER SFFS- QDA\n",
        "X_updated=data.iloc[:,b]\n",
        "x_train, x_test, y_train, y_test = train_test_split(X_updated, y, test_size = 0.2)\n",
        "clf.fit(x_train, y_train)\n",
        "#testing the model\n",
        "y_pred = clf.predict(x_test) \n"
      ],
      "metadata": {
        "id": "zRo--hBAO5sD"
      },
      "execution_count": null,
      "outputs": []
    },
    {
      "cell_type": "code",
      "source": [
        "#CALCULATING METRICES AFTER SFFS- LDA\n",
        "print(\"Accuracy score: \" + str(accuracy_score(y_test, y_pred)))\n",
        "cm=confusion_matrix(y_test, y_pred)\n",
        "print(\"\\nConfusion matrix: \\n\" + str(confusion_matrix(y_test, y_pred)))\n",
        "print(\"F1 score: \" + str(f1_score(y_test, y_pred,average='micro')))\n",
        "TP = cm[1][1]\n",
        "TN = cm[0][0]\n",
        "FP = cm[0][1]\n",
        "FN = cm[1][0]\n",
        "accSQDA=str(accuracy_score(y_test, y_pred))\n",
        "conf_sensitivitySQDA = (TP / float(TP + FN))\n",
        "conf_specificitySQDA = (TN / float(TN + FP))\n",
        "print(f'Sensitivity: {round(conf_sensitivitySQDA,2)}') \n",
        "print(f'Specificity: {round(conf_specificitySQDA,2)}') "
      ],
      "metadata": {
        "colab": {
          "base_uri": "https://localhost:8080/"
        },
        "outputId": "81cec14e-15f0-4bd2-dabe-dcec7e6b201d",
        "id": "sUwz7qCvPE9N"
      },
      "execution_count": null,
      "outputs": [
        {
          "output_type": "stream",
          "name": "stdout",
          "text": [
            "Accuracy score: 0.7777777777777778\n",
            "\n",
            "Confusion matrix: \n",
            "[[23  9]\n",
            " [ 3 19]]\n",
            "F1 score: 0.7777777777777778\n",
            "Sensitivity: 0.86\n",
            "Specificity: 0.72\n"
          ]
        }
      ]
    },
    {
      "cell_type": "code",
      "source": [
        "Final = [[\"NAIVE BAYES\", accNB,accSNB, conf_sensitivityNB,conf_sensitivitySNB,conf_specificityNB,conf_specificitySNB], \n",
        "        [\"KNN\",accKNN,accSKNN, conf_sensitivityKNN,conf_sensitivitySKNN,conf_specificityKNN,conf_specificitySKNN ], \n",
        "        [\"DESCION TREE\", accDT,accSDT, conf_sensitivityDT,conf_sensitivitySDT,conf_specificityDT,conf_specificitySDT ], \n",
        "        [\"LDA\", accLDA,accSLDA, conf_sensitivityLDA,conf_sensitivitySLDA,conf_specificityLDA,conf_specificitySLDA ],\n",
        "         [\"QDA\", accQDA,accSQDA, conf_sensitivityQDA,conf_sensitivitySQDA,conf_specificityQDA,conf_specificitySQDA ]]"
      ],
      "metadata": {
        "id": "qu0vCFVrPNqw"
      },
      "execution_count": null,
      "outputs": []
    },
    {
      "cell_type": "code",
      "source": [
        "col_names = [\"Accuracy\", \"Accuracy-SFFS\",\"Sensitivity\",\"Sensitivity-SFFS\",\"Specificity\",\"Specificity-SFFS\"]"
      ],
      "metadata": {
        "id": "4yF4a_3iS5Q4"
      },
      "execution_count": null,
      "outputs": []
    },
    {
      "cell_type": "code",
      "source": [
        "from tabulate import tabulate\n",
        "print(tabulate(Final, headers=col_names, tablefmt=\"fancy_grid\"))"
      ],
      "metadata": {
        "colab": {
          "base_uri": "https://localhost:8080/"
        },
        "id": "QO3GD9UGTQql",
        "outputId": "463fa7d6-f2bc-412b-95dc-d491d3dafd65"
      },
      "execution_count": null,
      "outputs": [
        {
          "output_type": "stream",
          "name": "stdout",
          "text": [
            "╒══════════════╤════════════╤═════════════════╤═══════════════╤════════════════════╤═══════════════╤════════════════════╕\n",
            "│              │   Accuracy │   Accuracy-SFFS │   Sensitivity │   Sensitivity-SFFS │   Specificity │   Specificity-SFFS │\n",
            "╞══════════════╪════════════╪═════════════════╪═══════════════╪════════════════════╪═══════════════╪════════════════════╡\n",
            "│ NAIVE BAYES  │   0.814815 │        0.833333 │      0.769231 │           0.875    │      0.857143 │           0.8      │\n",
            "├──────────────┼────────────┼─────────────────┼───────────────┼────────────────────┼───────────────┼────────────────────┤\n",
            "│ KNN          │   0.777778 │        0.814815 │      0.653846 │           0.631579 │      0.892857 │           0.914286 │\n",
            "├──────────────┼────────────┼─────────────────┼───────────────┼────────────────────┼───────────────┼────────────────────┤\n",
            "│ DESCION TREE │   0.740741 │        0.851852 │      0.538462 │           0.791667 │      0.928571 │           0.9      │\n",
            "├──────────────┼────────────┼─────────────────┼───────────────┼────────────────────┼───────────────┼────────────────────┤\n",
            "│ LDA          │   0.814815 │        0.777778 │      0.769231 │           0.652174 │      0.857143 │           0.870968 │\n",
            "├──────────────┼────────────┼─────────────────┼───────────────┼────────────────────┼───────────────┼────────────────────┤\n",
            "│ QDA          │   0.777778 │        0.777778 │      0.692308 │           0.863636 │      0.857143 │           0.71875  │\n",
            "╘══════════════╧════════════╧═════════════════╧═══════════════╧════════════════════╧═══════════════╧════════════════════╛\n"
          ]
        }
      ]
    }
  ]
}